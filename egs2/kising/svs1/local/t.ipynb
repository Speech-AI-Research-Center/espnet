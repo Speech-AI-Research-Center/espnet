{
 "cells": [
  {
   "cell_type": "code",
   "execution_count": 1,
   "metadata": {},
   "outputs": [],
   "source": [
    "import miditoolkit\n",
    "# load midi from /NASdata/AudioData/KiSing-v2/421/421.mid\n",
    "midi_obj = miditoolkit.midi.parser.MidiFile('/NASdata/AudioData/KiSing-v2/421/421.mid')"
   ]
  },
  {
   "cell_type": "code",
   "execution_count": 14,
   "metadata": {},
   "outputs": [
    {
     "ename": "AttributeError",
     "evalue": "'Instrument' object has no attribute 'events'",
     "output_type": "error",
     "traceback": [
      "\u001b[0;31m---------------------------------------------------------------------------\u001b[0m",
      "\u001b[0;31mAttributeError\u001b[0m                            Traceback (most recent call last)",
      "Cell \u001b[0;32mIn[14], line 2\u001b[0m\n\u001b[1;32m      1\u001b[0m \u001b[38;5;28;01mfor\u001b[39;00m track \u001b[38;5;129;01min\u001b[39;00m midi_obj\u001b[38;5;241m.\u001b[39minstruments:\n\u001b[0;32m----> 2\u001b[0m     \u001b[38;5;28;01mfor\u001b[39;00m event \u001b[38;5;129;01min\u001b[39;00m \u001b[43mtrack\u001b[49m\u001b[38;5;241;43m.\u001b[39;49m\u001b[43mevents\u001b[49m:\n\u001b[1;32m      3\u001b[0m         \u001b[38;5;66;03m# Check if the event is a lyric event\u001b[39;00m\n\u001b[1;32m      4\u001b[0m         \u001b[38;5;28;01mif\u001b[39;00m event\u001b[38;5;241m.\u001b[39mtype \u001b[38;5;241m==\u001b[39m \u001b[38;5;124m'\u001b[39m\u001b[38;5;124mlyrics\u001b[39m\u001b[38;5;124m'\u001b[39m:\n\u001b[1;32m      5\u001b[0m             \u001b[38;5;28mprint\u001b[39m(event)\n",
      "\u001b[0;31mAttributeError\u001b[0m: 'Instrument' object has no attribute 'events'"
     ]
    }
   ],
   "source": [
    "for track in midi_obj.instruments:\n",
    "    for event in track.events:\n",
    "        # Check if the event is a lyric event\n",
    "        if event.type == 'lyrics':\n",
    "            print(event)\n",
    "            print(event.text)\n",
    "            print(event.time)\n",
    "            print(event.tick)\n",
    "            prin"
   ]
  },
  {
   "cell_type": "code",
   "execution_count": 2,
   "metadata": {},
   "outputs": [],
   "source": [
    "import miditoolkit\n",
    "\n",
    "# Load the MIDI file\n",
    "midi_file_path = '/NASdata/AudioData/KiSing-v2/421/421.mid'\n",
    "midi_obj = miditoolkit.midi.parser.MidiFile(midi_file_path)\n",
    "midi_notes = []\n",
    "midis = []\n",
    "lyrics = []\n",
    "tempo = midi_obj.tempo_changes[0].tempo\n",
    "ppq = midi_obj.ticks_per_beat\n",
    "for note in midi_obj.instruments[0].notes:\n",
    "    start_time = note.start * 60000 / tempo / ppq\n",
    "    end_time = note.end * 60000 / tempo / ppq\n",
    "    midi_notes.append((start_time, end_time))\n",
    "    pitch = note.pitch\n",
    "    midis.append(pitch)"
   ]
  },
  {
   "cell_type": "code",
   "execution_count": 20,
   "metadata": {},
   "outputs": [
    {
     "data": {
      "text/plain": [
       "Note(start=2.000000, end=2.290000, pitch=65, velocity=100)"
      ]
     },
     "execution_count": 20,
     "metadata": {},
     "output_type": "execute_result"
    }
   ],
   "source": [
    "import pretty_midi\n",
    "from pretty_midi import PrettyMIDI\n",
    "from typing import List, Tuple\n",
    "\n",
    "# Define the path to your MIDI file\n",
    "midi_file_path = '/NASdata/AudioData/KiSing-v2/421/421.mid'\n",
    "\n",
    "midi_data = pretty_midi.PrettyMIDI(midi_file_path)\n",
    "notes = midi_data.instruments[0].notes\n",
    "\n",
    "notes[1]"
   ]
  },
  {
   "cell_type": "code",
   "execution_count": 19,
   "metadata": {},
   "outputs": [
    {
     "data": {
      "text/plain": [
       "Lyric(text=\"ke\", time=2.29)"
      ]
     },
     "execution_count": 19,
     "metadata": {},
     "output_type": "execute_result"
    }
   ],
   "source": [
    "lyrics = midi_data.lyrics\n",
    "lyrics[2]"
   ]
  },
  {
   "cell_type": "code",
   "execution_count": 4,
   "metadata": {},
   "outputs": [
    {
     "data": {
      "text/plain": [
       "[TempoChange(tempo=120.0, time=0)]"
      ]
     },
     "execution_count": 4,
     "metadata": {},
     "output_type": "execute_result"
    }
   ],
   "source": [
    "import miditoolkit\n",
    "# load midi from /NASdata/AudioData/KiSing-v2/421/421.mid\n",
    "midi_obj = miditoolkit.midi.parser.MidiFile('/NASdata/AudioData/KiSing-v2/422/422.mid')\n",
    "tempos = midi_obj.tempo_changes\n",
    "tempos"
   ]
  },
  {
   "cell_type": "code",
   "execution_count": 3,
   "metadata": {},
   "outputs": [
    {
     "data": {
      "text/plain": [
       "[TempoChange(tempo=75.0, time=0)]"
      ]
     },
     "execution_count": 3,
     "metadata": {},
     "output_type": "execute_result"
    }
   ],
   "source": [
    "tempos"
   ]
  },
  {
   "cell_type": "code",
   "execution_count": 6,
   "metadata": {},
   "outputs": [
    {
     "data": {
      "text/plain": [
       "['ni']"
      ]
     },
     "execution_count": 6,
     "metadata": {},
     "output_type": "execute_result"
    }
   ],
   "source": [
    "midi_data.instruments[0].notes"
   ]
  },
  {
   "cell_type": "code",
   "execution_count": null,
   "metadata": {},
   "outputs": [],
   "source": []
  }
 ],
 "metadata": {
  "kernelspec": {
   "display_name": "espnet",
   "language": "python",
   "name": "python3"
  },
  "language_info": {
   "codemirror_mode": {
    "name": "ipython",
    "version": 3
   },
   "file_extension": ".py",
   "mimetype": "text/x-python",
   "name": "python",
   "nbconvert_exporter": "python",
   "pygments_lexer": "ipython3",
   "version": "3.9.17"
  }
 },
 "nbformat": 4,
 "nbformat_minor": 2
}
